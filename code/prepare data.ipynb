{
 "cells": [
  {
   "cell_type": "code",
   "execution_count": 0,
   "metadata": {
    "application/vnd.databricks.v1+cell": {
     "cellMetadata": {
      "byteLimit": 2048000,
      "implicitDf": true,
      "rowLimit": 10000
     },
     "inputWidgets": {},
     "nuid": "2df910b0-ecdf-489b-ad2f-3e14fd7110f2",
     "showTitle": false,
     "title": ""
    }
   },
   "outputs": [],
   "source": [
    "import pandas as pd\n",
    "from pyspark.sql import SparkSession"
   ]
  },
  {
   "cell_type": "markdown",
   "metadata": {
    "application/vnd.databricks.v1+cell": {
     "cellMetadata": {
      "byteLimit": 2048000,
      "rowLimit": 10000
     },
     "inputWidgets": {},
     "nuid": "6d5335e5-1d84-466f-a5bc-99000cac818a",
     "showTitle": false,
     "title": ""
    }
   },
   "source": [
    "read the csv file and store it Delta Lake"
   ]
  },
  {
   "cell_type": "code",
   "execution_count": 0,
   "metadata": {
    "application/vnd.databricks.v1+cell": {
     "cellMetadata": {
      "byteLimit": 2048000,
      "rowLimit": 10000
     },
     "inputWidgets": {},
     "nuid": "be82d8f7-b933-408e-bcb8-948d548e6e02",
     "showTitle": false,
     "title": ""
    }
   },
   "outputs": [],
   "source": [
    "# Define the table name and Delta Lake path\n",
    "table_name = \"imdb_dataset\"\n",
    "delta_path = \"/mnt/delta/data\"\n",
    "\n",
    "# Check if the table exists in Delta Lake and delete it if it does\n",
    "if spark.catalog._jcatalog.tableExists(table_name):\n",
    "    spark.sql(f\"DROP TABLE {table_name}\")\n",
    "\n",
    "# create spark session\n",
    "spark = SparkSession.builder.appName(\"Pandas to Delta Lake\").getOrCreate()\n",
    "\n",
    "# read the csv file\n",
    "df_pd = pd.read_csv(\"/dbfs/FileStore/IMDBDataset.csv\", dtype=str)\n",
    "df_spark = spark.createDataFrame(df_pd)\n",
    "\n",
    "# write the dataframe to Delta Lake\n",
    "df_spark.write.format(\"delta\").mode(\"overwrite\").save(delta_path)"
   ]
  },
  {
   "cell_type": "markdown",
   "metadata": {
    "application/vnd.databricks.v1+cell": {
     "cellMetadata": {
      "byteLimit": 2048000,
      "rowLimit": 10000
     },
     "inputWidgets": {},
     "nuid": "d7fcd0bc-ab29-4393-8257-d78d7f03f7cd",
     "showTitle": false,
     "title": ""
    }
   },
   "source": [
    "check the stored table"
   ]
  },
  {
   "cell_type": "code",
   "execution_count": 0,
   "metadata": {
    "application/vnd.databricks.v1+cell": {
     "cellMetadata": {
      "byteLimit": 2048000,
      "rowLimit": 10000
     },
     "inputWidgets": {},
     "nuid": "c3e6f0e2-2054-472b-9b36-0e681e6685b3",
     "showTitle": false,
     "title": ""
    }
   },
   "outputs": [
    {
     "output_type": "display_data",
     "data": {
      "text/html": [
       "<div>\n<style scoped>\n    .dataframe tbody tr th:only-of-type {\n        vertical-align: middle;\n    }\n\n    .dataframe tbody tr th {\n        vertical-align: top;\n    }\n\n    .dataframe thead th {\n        text-align: right;\n    }\n</style>\n<table border=\"1\" class=\"dataframe\">\n  <thead>\n    <tr style=\"text-align: right;\">\n      <th></th>\n      <th>review</th>\n      <th>sentiment</th>\n    </tr>\n  </thead>\n  <tbody>\n    <tr>\n      <th>0</th>\n      <td>First off I want to say that I lean liberal on...</td>\n      <td>negative</td>\n    </tr>\n    <tr>\n      <th>1</th>\n      <td>I was excited to see a sitcom that would hopef...</td>\n      <td>negative</td>\n    </tr>\n    <tr>\n      <th>2</th>\n      <td>When you look at the cover and read stuff abou...</td>\n      <td>negative</td>\n    </tr>\n    <tr>\n      <th>3</th>\n      <td>Like many others, I counted on the appearance ...</td>\n      <td>negative</td>\n    </tr>\n    <tr>\n      <th>4</th>\n      <td>This movie was on t.v the other day, and I did...</td>\n      <td>negative</td>\n    </tr>\n    <tr>\n      <th>...</th>\n      <td>...</td>\n      <td>...</td>\n    </tr>\n    <tr>\n      <th>49995</th>\n      <td>This was a marvelously funny comedy with a gre...</td>\n      <td>positive</td>\n    </tr>\n    <tr>\n      <th>49996</th>\n      <td>There is no plot. There are no central charact...</td>\n      <td>positive</td>\n    </tr>\n    <tr>\n      <th>49997</th>\n      <td>This show is awesome! I love all the actors! I...</td>\n      <td>positive</td>\n    </tr>\n    <tr>\n      <th>49998</th>\n      <td>The fact that this movie has been entitled to ...</td>\n      <td>negative</td>\n    </tr>\n    <tr>\n      <th>49999</th>\n      <td>I have to confess that I am severely disappoin...</td>\n      <td>negative</td>\n    </tr>\n  </tbody>\n</table>\n<p>50000 rows × 2 columns</p>\n</div>"
      ]
     },
     "metadata": {
      "application/vnd.databricks.v1+output": {
       "addedWidgets": {},
       "arguments": {},
       "data": "<div>\n<style scoped>\n    .dataframe tbody tr th:only-of-type {\n        vertical-align: middle;\n    }\n\n    .dataframe tbody tr th {\n        vertical-align: top;\n    }\n\n    .dataframe thead th {\n        text-align: right;\n    }\n</style>\n<table border=\"1\" class=\"dataframe\">\n  <thead>\n    <tr style=\"text-align: right;\">\n      <th></th>\n      <th>review</th>\n      <th>sentiment</th>\n    </tr>\n  </thead>\n  <tbody>\n    <tr>\n      <th>0</th>\n      <td>First off I want to say that I lean liberal on...</td>\n      <td>negative</td>\n    </tr>\n    <tr>\n      <th>1</th>\n      <td>I was excited to see a sitcom that would hopef...</td>\n      <td>negative</td>\n    </tr>\n    <tr>\n      <th>2</th>\n      <td>When you look at the cover and read stuff abou...</td>\n      <td>negative</td>\n    </tr>\n    <tr>\n      <th>3</th>\n      <td>Like many others, I counted on the appearance ...</td>\n      <td>negative</td>\n    </tr>\n    <tr>\n      <th>4</th>\n      <td>This movie was on t.v the other day, and I did...</td>\n      <td>negative</td>\n    </tr>\n    <tr>\n      <th>...</th>\n      <td>...</td>\n      <td>...</td>\n    </tr>\n    <tr>\n      <th>49995</th>\n      <td>This was a marvelously funny comedy with a gre...</td>\n      <td>positive</td>\n    </tr>\n    <tr>\n      <th>49996</th>\n      <td>There is no plot. There are no central charact...</td>\n      <td>positive</td>\n    </tr>\n    <tr>\n      <th>49997</th>\n      <td>This show is awesome! I love all the actors! I...</td>\n      <td>positive</td>\n    </tr>\n    <tr>\n      <th>49998</th>\n      <td>The fact that this movie has been entitled to ...</td>\n      <td>negative</td>\n    </tr>\n    <tr>\n      <th>49999</th>\n      <td>I have to confess that I am severely disappoin...</td>\n      <td>negative</td>\n    </tr>\n  </tbody>\n</table>\n<p>50000 rows × 2 columns</p>\n</div>",
       "datasetInfos": [],
       "metadata": {},
       "removedWidgets": [],
       "textData": null,
       "type": "htmlSandbox"
      }
     },
     "output_type": "display_data"
    }
   ],
   "source": [
    "from delta import DeltaTable\n",
    "# Define the Delta Lake path and table name\n",
    "delta_path = \"/mnt/delta/data\"\n",
    "table_name = \"imdb_dataset\"\n",
    "\n",
    "# Read the Delta table into a PySpark DataFrame\n",
    "df_spark = DeltaTable.forPath(spark, delta_path).toDF()\n",
    "\n",
    "# Convert the PySpark DataFrame to a pandas DataFrame\n",
    "df_pd = df_spark.toPandas()\n",
    "df_pd"
   ]
  }
 ],
 "metadata": {
  "application/vnd.databricks.v1+notebook": {
   "dashboards": [],
   "language": "python",
   "notebookMetadata": {
    "mostRecentlyExecutedCommandWithImplicitDF": {
     "commandId": -1,
     "dataframes": [
      "_sqldf"
     ]
    },
    "pythonIndentUnit": 4
   },
   "notebookName": "prepare data",
   "notebookOrigID": 430126780181949,
   "widgets": {}
  }
 },
 "nbformat": 4,
 "nbformat_minor": 0
}
