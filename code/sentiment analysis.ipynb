{
 "cells": [
  {
   "cell_type": "code",
   "execution_count": 0,
   "metadata": {
    "application/vnd.databricks.v1+cell": {
     "cellMetadata": {
      "byteLimit": 2048000,
      "rowLimit": 10000
     },
     "inputWidgets": {},
     "nuid": "ee2e24ea-4830-4a25-9c64-9991143df6ab",
     "showTitle": false,
     "title": ""
    }
   },
   "outputs": [
    {
     "output_type": "stream",
     "name": "stdout",
     "output_type": "stream",
     "text": [
      "Requirement already satisfied: pip in /local_disk0/.ephemeral_nfs/envs/pythonEnv-965d0642-20e6-4227-9368-ee7242ef8cad/lib/python3.9/site-packages (23.0.1)\r\nRequirement already satisfied: nltk in /local_disk0/.ephemeral_nfs/envs/pythonEnv-965d0642-20e6-4227-9368-ee7242ef8cad/lib/python3.9/site-packages (3.8.1)\r\nRequirement already satisfied: tqdm in /local_disk0/.ephemeral_nfs/envs/pythonEnv-965d0642-20e6-4227-9368-ee7242ef8cad/lib/python3.9/site-packages (from nltk) (4.65.0)\r\nRequirement already satisfied: click in /databricks/python3/lib/python3.9/site-packages (from nltk) (8.0.3)\r\nRequirement already satisfied: regex>=2021.8.3 in /local_disk0/.ephemeral_nfs/envs/pythonEnv-965d0642-20e6-4227-9368-ee7242ef8cad/lib/python3.9/site-packages (from nltk) (2023.3.23)\r\nRequirement already satisfied: joblib in /databricks/python3/lib/python3.9/site-packages (from nltk) (1.0.1)\r\n"
     ]
    }
   ],
   "source": [
    "!pip install --upgrade pip\n",
    "!pip install nltk"
   ]
  },
  {
   "cell_type": "code",
   "execution_count": 0,
   "metadata": {
    "application/vnd.databricks.v1+cell": {
     "cellMetadata": {
      "byteLimit": 2048000,
      "rowLimit": 10000
     },
     "inputWidgets": {},
     "nuid": "542432df-049f-49b7-94d3-895d2da722ac",
     "showTitle": false,
     "title": ""
    }
   },
   "outputs": [
    {
     "output_type": "stream",
     "name": "stdout",
     "output_type": "stream",
     "text": [
      "[nltk_data] Downloading package stopwords to /root/nltk_data...\n[nltk_data]   Package stopwords is already up-to-date!\n"
     ]
    }
   ],
   "source": [
    "import nltk\n",
    "import numpy as np\n",
    "from nltk.corpus import stopwords\n",
    "import random\n",
    "import pandas as pd\n",
    "from sklearn.model_selection import train_test_split\n",
    "from collections import Counter\n",
    "from sklearn import metrics\n",
    "from delta import DeltaTable\n",
    "nltk.download('stopwords')\n",
    "STOP_WORDS = set(stopwords.words('english'))"
   ]
  },
  {
   "cell_type": "markdown",
   "metadata": {
    "application/vnd.databricks.v1+cell": {
     "cellMetadata": {
      "byteLimit": 2048000,
      "rowLimit": 10000
     },
     "inputWidgets": {},
     "nuid": "588746af-983e-42e0-a89f-bbda3d4b99d1",
     "showTitle": false,
     "title": ""
    }
   },
   "source": [
    "1. naive bayes model"
   ]
  },
  {
   "cell_type": "code",
   "execution_count": 0,
   "metadata": {
    "application/vnd.databricks.v1+cell": {
     "cellMetadata": {
      "byteLimit": 2048000,
      "rowLimit": 10000
     },
     "inputWidgets": {},
     "nuid": "f4f824f1-b195-4e36-9bd9-c9a91f21909e",
     "showTitle": false,
     "title": ""
    }
   },
   "outputs": [],
   "source": [
    "class NaiveBayesClass:\n",
    "    def __init__(self):\n",
    "        self.pos_cnt = None  # words cnt in positive class\n",
    "        self.neg_cnt = None  # words cnt in negative class\n",
    "        self.pos_words = None  # vocabulary in positive class\n",
    "        self.neg_words = None  # vocabulary in negative class\n",
    "        self.p_pos = None  # p(c=positive)\n",
    "        self.p_neg = None  # p(c=negative)\n",
    "\n",
    "    def fit(self, vocab, x_train, y_train):\n",
    "        \"\"\"\n",
    "        train the NB model\n",
    "        :param vocab: vocabulary\n",
    "        :param x_train: training data\n",
    "        :param y_train: training label\n",
    "        \"\"\"\n",
    "        pos_words = []\n",
    "        neg_words = []\n",
    "        pos = 0\n",
    "        for i in range(x_train.shape[0]):\n",
    "            sentence = x_train[i]\n",
    "            label = y_train[i]\n",
    "            if label == 1: pos += 1\n",
    "            for word in sentence.lower().split():\n",
    "                if word in vocab.keys():\n",
    "                    if label == 1:\n",
    "                        pos_words.append(word)\n",
    "                    else:\n",
    "                        neg_words.append(word)\n",
    "        self.pos_cnt = len(pos_words)\n",
    "        self.neg_cnt = len(neg_words)\n",
    "        self.pos_words = Counter(pos_words)\n",
    "        self.neg_words = Counter(neg_words)\n",
    "        self.p_pos = pos / y_train.shape[0]\n",
    "        self.p_neg = 1 - self.p_pos\n",
    "\n",
    "    def predict(self, x_test):\n",
    "        \"\"\"\n",
    "        predict the labels of the given x_test\n",
    "        :param x_test: testing data\n",
    "        :return: predicted labels\n",
    "        \"\"\"\n",
    "        predict = []\n",
    "        for sentence in x_test:\n",
    "            predict.append(self.get_sentiment(sentence))\n",
    "\n",
    "        return np.array(predict)\n",
    "\n",
    "    def get_sentiment(self, sentence):\n",
    "        \"\"\"\n",
    "        predict the sentiment of a single sentence\n",
    "        :param sentence: sentence\n",
    "        :return: predicted label\n",
    "        \"\"\"\n",
    "        log_pos = 0\n",
    "        log_neg = 0\n",
    "        cnt = 0\n",
    "        for word in sentence.lower().split():\n",
    "            cnt += 1\n",
    "            log_pos += np.log(self.pos_words[word]+1)  # laplace smoothing\n",
    "            log_neg += np.log(self.neg_words[word]+1)\n",
    "        log_pos = log_pos + np.log(self.p_pos)-cnt*np.log(self.pos_cnt)\n",
    "        log_neg = log_neg + np.log(self.p_neg)-cnt*np.log(self.neg_cnt)\n",
    "        return 1 if log_pos>log_neg else 0\n",
    "\n",
    "    def generate(self, label, N, length):\n",
    "        \"\"\"\n",
    "        generate synthetic data given label\n",
    "        :param label: the generated label\n",
    "        :param N: the num of generated samples\n",
    "        :param length: the length of a generated sample\n",
    "        \"\"\"\n",
    "        # get generate vocab\n",
    "        if label == 1:\n",
    "            generate_vocab = list(self.pos_words.keys())\n",
    "            prob = list(self.pos_words.values())\n",
    "            # prob = [x / self.pos_cnt for x in prob]\n",
    "        else:\n",
    "            generate_vocab = list(self.neg_words.keys())\n",
    "            prob = list(self.neg_words.values())\n",
    "            # prob = [x / self.neg_cnt for x in prob]\n",
    "        # randomly choose words from vocab based on the prob\n",
    "        results = []\n",
    "        for i in range(N):\n",
    "            d = random.choices(generate_vocab, prob, k=length)\n",
    "            d = ' '.join(d)\n",
    "            results.append(d)\n",
    "        return np.array(results)\n",
    "\n",
    "    def generate_data(self,N,length):\n",
    "        \"\"\"\n",
    "        generate sample and label given N\n",
    "        :param N: the size of dataset\n",
    "        :param length: the length of generated sample\n",
    "        \"\"\"\n",
    "        pos_num = int(N*self.p_pos)\n",
    "        neg_num = N-pos_num\n",
    "        pos_data = self.generate(1,pos_num,length)\n",
    "        neg_data = self.generate(0,neg_num,length)\n",
    "        pos_label = np.repeat('positive', pos_num)\n",
    "        neg_label = np.repeat('negative', pos_num)\n",
    "        review = np.append(pos_data,neg_data)\n",
    "        label = np.append(pos_label,neg_label)\n",
    "        data = np.vstack((review, label))\n",
    "        df = pd.DataFrame(data.T, columns = ['review','sentiment'])\n",
    "        return df"
   ]
  },
  {
   "cell_type": "markdown",
   "metadata": {
    "application/vnd.databricks.v1+cell": {
     "cellMetadata": {
      "byteLimit": 2048000,
      "rowLimit": 10000
     },
     "inputWidgets": {},
     "nuid": "0813b361-fe1b-43cc-8a4c-e86390a9f2b7",
     "showTitle": false,
     "title": ""
    }
   },
   "source": [
    "2. load data"
   ]
  },
  {
   "cell_type": "code",
   "execution_count": 0,
   "metadata": {
    "application/vnd.databricks.v1+cell": {
     "cellMetadata": {
      "byteLimit": 2048000,
      "rowLimit": 10000
     },
     "inputWidgets": {},
     "nuid": "840b1eba-8d67-4f22-ad44-76f73a1c2845",
     "showTitle": false,
     "title": ""
    }
   },
   "outputs": [],
   "source": [
    "def load_dataset(df, random_state = None):\n",
    "    review, sentiment = df['review'].values, df['sentiment'].values\n",
    "    \n",
    "    # replace positive as 1; negative as 0\n",
    "    sentiment[sentiment == 'positive'] = 1\n",
    "    sentiment[sentiment == 'negative'] = 0\n",
    "    sentiment = sentiment.astype(int)\n",
    "\n",
    "    # split dataset\n",
    "    x_train, x_test, y_train, y_test = train_test_split(review, sentiment, test_size=0.2, stratify=sentiment, random_state=random_state)\n",
    "    return x_train, x_test, y_train, y_test"
   ]
  },
  {
   "cell_type": "code",
   "execution_count": 0,
   "metadata": {
    "application/vnd.databricks.v1+cell": {
     "cellMetadata": {
      "byteLimit": 2048000,
      "rowLimit": 10000
     },
     "inputWidgets": {},
     "nuid": "481fc192-8d56-4c36-aefa-de8bc90fbb99",
     "showTitle": false,
     "title": ""
    }
   },
   "outputs": [],
   "source": [
    "delta_path = \"/mnt/delta/data\"\n",
    "table_name = \"imdb_dataset\"\n",
    "df_spark = DeltaTable.forPath(spark, delta_path).toDF()\n",
    "imdb = df_spark.toPandas()\n",
    "x_train, x_test, y_train, y_test = load_dataset(imdb)"
   ]
  },
  {
   "cell_type": "markdown",
   "metadata": {
    "application/vnd.databricks.v1+cell": {
     "cellMetadata": {
      "byteLimit": 2048000,
      "rowLimit": 10000
     },
     "inputWidgets": {},
     "nuid": "9cf6d305-a756-4f13-9b98-8a36e1c4923a",
     "showTitle": false,
     "title": ""
    }
   },
   "source": [
    "3. build vocabulary"
   ]
  },
  {
   "cell_type": "code",
   "execution_count": 0,
   "metadata": {
    "application/vnd.databricks.v1+cell": {
     "cellMetadata": {
      "byteLimit": 2048000,
      "rowLimit": 10000
     },
     "inputWidgets": {},
     "nuid": "209e3a12-7e54-4275-bca1-d5fa851bbb34",
     "showTitle": false,
     "title": ""
    }
   },
   "outputs": [],
   "source": [
    "def build_vocab(x_train:list, min_freq: int=5) -> dict:\n",
    "    \"\"\"\n",
    "    build a vocabulary based on the training corpus.\n",
    "    :param x_train:  List. The training corpus. Each sample in the list is a string of text.\n",
    "    :param min_freq: Int. The frequency threshold for selecting words.\n",
    "    :return: dictionary {word:index}\n",
    "    \"\"\"\n",
    "\n",
    "    words = []\n",
    "    for sentence in x_train:\n",
    "        for word in sentence.lower().split():\n",
    "            if word not in STOP_WORDS and word != '':\n",
    "                words.append(word)\n",
    "\n",
    "    corpus = Counter(words)\n",
    "    corpus_ = [word for word, freq in corpus.items() if freq >= min_freq]\n",
    "\n",
    "    # creating a dict\n",
    "    vocab = {w:i+2 for i, w in enumerate(corpus_)}\n",
    "    vocab['<pad>'] = 0\n",
    "    vocab['<unk>'] = 1\n",
    "    return vocab"
   ]
  },
  {
   "cell_type": "code",
   "execution_count": 0,
   "metadata": {
    "application/vnd.databricks.v1+cell": {
     "cellMetadata": {
      "byteLimit": 2048000,
      "rowLimit": 10000
     },
     "inputWidgets": {},
     "nuid": "254f438d-752a-484c-ba07-8bca9d11afd3",
     "showTitle": false,
     "title": ""
    }
   },
   "outputs": [],
   "source": [
    "vocab = build_vocab(x_train)"
   ]
  },
  {
   "cell_type": "markdown",
   "metadata": {
    "application/vnd.databricks.v1+cell": {
     "cellMetadata": {
      "byteLimit": 2048000,
      "rowLimit": 10000
     },
     "inputWidgets": {},
     "nuid": "94bedec7-e600-48a6-9d0d-c091055fb82b",
     "showTitle": false,
     "title": ""
    }
   },
   "source": [
    "4. train the model"
   ]
  },
  {
   "cell_type": "code",
   "execution_count": 0,
   "metadata": {
    "application/vnd.databricks.v1+cell": {
     "cellMetadata": {
      "byteLimit": 2048000,
      "rowLimit": 10000
     },
     "inputWidgets": {},
     "nuid": "20a6725a-6cc3-4aa3-9f31-e2549fd76d1b",
     "showTitle": false,
     "title": ""
    }
   },
   "outputs": [],
   "source": [
    "NB_IMDB = NaiveBayesClass()\n",
    "NB_IMDB.fit(vocab, x_train, y_train)"
   ]
  },
  {
   "cell_type": "markdown",
   "metadata": {
    "application/vnd.databricks.v1+cell": {
     "cellMetadata": {
      "byteLimit": 2048000,
      "rowLimit": 10000
     },
     "inputWidgets": {},
     "nuid": "5a1ebb85-7358-4deb-9a4d-85855da28903",
     "showTitle": false,
     "title": ""
    }
   },
   "source": [
    "5. Evaluate the model"
   ]
  },
  {
   "cell_type": "code",
   "execution_count": 0,
   "metadata": {
    "application/vnd.databricks.v1+cell": {
     "cellMetadata": {
      "byteLimit": 2048000,
      "rowLimit": 10000
     },
     "inputWidgets": {},
     "nuid": "65c6b4b5-9e3f-481b-bd5e-ebebb6961c11",
     "showTitle": false,
     "title": ""
    }
   },
   "outputs": [
    {
     "output_type": "stream",
     "name": "stdout",
     "output_type": "stream",
     "text": [
      "Acc: 0.8609\n"
     ]
    }
   ],
   "source": [
    "predict = NB_IMDB.predict(x_test)\n",
    "acc = metrics.accuracy_score(predict, y_test)\n",
    "print(\"Acc: %.4f\"%(acc))"
   ]
  },
  {
   "cell_type": "code",
   "execution_count": 0,
   "metadata": {
    "application/vnd.databricks.v1+cell": {
     "cellMetadata": {
      "byteLimit": 2048000,
      "rowLimit": 10000
     },
     "inputWidgets": {},
     "nuid": "f5056483-f5e9-473d-bb71-a63552bb6124",
     "showTitle": false,
     "title": ""
    }
   },
   "outputs": [
    {
     "output_type": "stream",
     "name": "stdout",
     "output_type": "stream",
     "text": [
      "====================\n  Correct predictions:\n     Example Sentence 1:  This movie is so awesome! I loved it, it was really scary. I love the Scream movies and all horror movies and this one ranks way up there. It probably helped that I watched it at midnight. If you want a real scare rent this one! 10/10\n     Pred Sentiment:  positive , Real Sentiment:  positive\n     Example Sentence 2:  This movie will always be a Broadway and Movie classic, as long as there are still people who sing, dance, and act.\n     Pred Sentiment:  positive , Real Sentiment:  positive\n     Example Sentence 3:  This tearful movie about a sister and her battle to save as many souls as she can is very moving. The film does well in picking up the characters and showing how Sister Helen deals with each.<br /><br />A wonderful journey from life to death.<br /><br />\n     Pred Sentiment:  positive , Real Sentiment:  positive\n     Example Sentence 4:  An excellent example of what happens when one central body controls everyone. I liked this movie because Glenn Corbett also appeared in Star Trek as Zeffrem Cochrane in 1967. I also liked it because I am a fan of the apollo space program.\n     Pred Sentiment:  positive , Real Sentiment:  positive\n     Example Sentence 5:  This movie is one of my all time favorites. I have watched it probably 100 times (literally) and it is still funny to me. It seems that every time I watch it, I see something different. Mel Brooks is definitely the all time King of side splitting comedy.\n     Pred Sentiment:  positive , Real Sentiment:  positive\n     Example Sentence 6:  If you have few expectations, then this will entertain for 90 minutes. My problem is that they've dumbed down this tale for the modern audience. Highwaymen are already sexy, exciting characters. They don;t need the techno soundtrack and snappy dialogue.\n     Pred Sentiment:  negative , Real Sentiment:  negative\n     Example Sentence 7:  This must be the first movie I've rented and not seen to the end. Complete garbage! The acting, the plot, set and wardrobe looked like it came from a porno movie with a plot. Not even a B move.\n     Pred Sentiment:  negative , Real Sentiment:  negative\n     Example Sentence 8:  I checked this movie out based on a favorable review on this page. It is slow moving and the payoff is a four star dud..The only mystery here is how Oscar® winner F. Murray Abraham got involved with such a lousy script!\n     Pred Sentiment:  negative , Real Sentiment:  negative\n     Example Sentence 9:  All that talent.....but when ya have poor direction, and a WEAK screenplay, it doesnt matter WHO is in a movie. Very tired attempt at telling a tale..which was actually interesting in the beginning, but then QUICKLY fell apart toward the end....to bad.\n     Pred Sentiment:  negative , Real Sentiment:  negative\n     Example Sentence 10:  The Buddy Holly Story is a great biography with a super performance from Gary Busey. Busey did his own singing for this film and he does a great job.\n     Pred Sentiment:  positive , Real Sentiment:  positive\n====================\n  Failed predictions:\n     Example Sentence 1:  This is a really interesting film. It's the first time I have seen the relationship between an older woman and a younger guy on screen without it being sensationalist. For the director of Notting Hill this is a bold move to something serious\n     Pred Sentiment:  negative , Real Sentiment:  positive\n     Example Sentence 2:  Nice movie and Nicholle Tom does a fantastic job playing the \"guy in the girl's body\", she really does it well.<br /><br />A sort of teen version of many other movies, but well done.<br /><br />Well casted, from \"Matt\" to \"Matt2\".\n     Pred Sentiment:  positive , Real Sentiment:  negative\n     Example Sentence 3:  this is really films outside (not in a motel room). With real costumes (not only strings and swimsuits). You have to see this movie. it's the only porn movie I know that is worth watching between the sex scenes.<br /><br />Bon Cinema<br /><br />Laurent\n     Pred Sentiment:  negative , Real Sentiment:  positive\n     Example Sentence 4:  Subject Matter: Cosmology, Quantum Physics and Stephen Hawking<br /><br />Soundtrack: Phillip Glass<br /><br />Have I died and gone to Heaven? <br /><br />You will be enraptured.\n     Pred Sentiment:  negative , Real Sentiment:  positive\n     Example Sentence 5:  I was really excited when I read \"The Canterville Ghost\" would be shown on TV. However, I was deeply disappointed. I loved the original story written by Oscar Wilde and sadly nothing of that was transferred by the movie.\n     Pred Sentiment:  positive , Real Sentiment:  negative\n     Example Sentence 6:  Henry Thomas showed a restraint, even when the third act turned into horrible hollywood resolution that could've killed this movie, that kept the dignity of a redemption story and as for pure creepiness-sniffing babies?\n     Pred Sentiment:  negative , Real Sentiment:  positive\n     Example Sentence 7:  You'd better choose Paul Verhoeven's even if you have watched it.\n     Pred Sentiment:  positive , Real Sentiment:  negative\n     Example Sentence 8:  This movie turned out to be better than I had expected it to be. Some parts were pretty funny. It was nice to have a movie with a new plot.\n     Pred Sentiment:  negative , Real Sentiment:  positive\n     Example Sentence 9:  This movie is so good I could watch it all day long! Mary-Kate and Ashley were robbed at Oscar time!! If I got to be one of the actors I would be so excited!!! I can't wait for the new Charlie's Angels movie starring Mary-Kate and Ashley.\n     Pred Sentiment:  negative , Real Sentiment:  positive\n     Example Sentence 10:  Not the funniest movie ever.....but I have to watch this film at least once a year just so I can fall in Love with Michelle Johnson all over again. She never looked better than she did in this film. by the way The story is good too.\n     Pred Sentiment:  positive , Real Sentiment:  negative\n==================================================\n"
     ]
    }
   ],
   "source": [
    "# print some examples\n",
    "indices = [idx for idx, word in enumerate(x_test) if len(word) <= 256]\n",
    "x_eval = x_test[indices]\n",
    "y_eval = y_test[indices]\n",
    "\n",
    "predict = NB_IMDB.predict(x_eval)\n",
    "correct_preds_indices = [i for i, pred in enumerate(predict) if pred == y_eval[i]]\n",
    "failure_preds_indices = [i for i, pred in enumerate(predict) if pred != y_eval[i]]\n",
    "print(\"=\"*20)\n",
    "print(\"  Correct predictions:\")\n",
    "for i in range(10):\n",
    "    idx = correct_preds_indices[i]\n",
    "    sentence = x_eval[idx]\n",
    "    real_sentiment = 'positive' if y_eval[idx] == 1 else 'negative'\n",
    "    print(\"     Example Sentence %d: \"%(i+1), sentence)\n",
    "    example_sentiment = 'positive' if predict[idx] == 1 else 'negative'\n",
    "    print(\"     Pred Sentiment: \", example_sentiment, \", Real Sentiment: \", real_sentiment)\n",
    "print(\"=\"*20)\n",
    "print(\"  Failed predictions:\")\n",
    "for i in range(10):\n",
    "    idx = failure_preds_indices[i]\n",
    "    sentence = x_eval[idx]\n",
    "    real_sentiment = 'positive' if y_eval[idx] == 1 else 'negative'\n",
    "    print(\"     Example Sentence %d: \"%(i+1), sentence)\n",
    "    example_sentiment = 'positive' if predict[idx] == 1 else 'negative'\n",
    "    print(\"     Pred Sentiment: \", example_sentiment, \", Real Sentiment: \", real_sentiment)\n",
    "\n",
    "print(\"=\"*50)"
   ]
  },
  {
   "cell_type": "code",
   "execution_count": 0,
   "metadata": {
    "application/vnd.databricks.v1+cell": {
     "cellMetadata": {
      "byteLimit": 2048000,
      "rowLimit": 10000
     },
     "inputWidgets": {},
     "nuid": "8bde7031-0739-4943-ab1a-6d1827964146",
     "showTitle": false,
     "title": ""
    }
   },
   "outputs": [
    {
     "output_type": "display_data",
     "data": {
      "text/html": [
       "<div>\n<style scoped>\n    .dataframe tbody tr th:only-of-type {\n        vertical-align: middle;\n    }\n\n    .dataframe tbody tr th {\n        vertical-align: top;\n    }\n\n    .dataframe thead th {\n        text-align: right;\n    }\n</style>\n<table border=\"1\" class=\"dataframe\">\n  <thead>\n    <tr style=\"text-align: right;\">\n      <th></th>\n      <th>review</th>\n      <th>sentiment</th>\n    </tr>\n  </thead>\n  <tbody>\n    <tr>\n      <th>0</th>\n      <td>floor. course, with, sharp, jason it, capitali...</td>\n      <td>positive</td>\n    </tr>\n    <tr>\n      <th>1</th>\n      <td>/&gt;&lt;br fine struck academy me. good movie. judg...</td>\n      <td>positive</td>\n    </tr>\n    <tr>\n      <th>2</th>\n      <td>movie? flicks c would unbridled dvd nowhere cr...</td>\n      <td>positive</td>\n    </tr>\n    <tr>\n      <th>3</th>\n      <td>get. that, role. date work plot tough, let fee...</td>\n      <td>positive</td>\n    </tr>\n    <tr>\n      <th>4</th>\n      <td>&lt;br cuddly appealing matte showing starting (b...</td>\n      <td>positive</td>\n    </tr>\n    <tr>\n      <th>...</th>\n      <td>...</td>\n      <td>...</td>\n    </tr>\n    <tr>\n      <th>95</th>\n      <td>attractive, ya learn warrior lamer excellent s...</td>\n      <td>negative</td>\n    </tr>\n    <tr>\n      <th>96</th>\n      <td>works. ten needed movie weak effects film adde...</td>\n      <td>negative</td>\n    </tr>\n    <tr>\n      <th>97</th>\n      <td>clip get they're see sense.&lt;br caused military...</td>\n      <td>negative</td>\n    </tr>\n    <tr>\n      <th>98</th>\n      <td>intriguing complicated play films ingenuous cl...</td>\n      <td>negative</td>\n    </tr>\n    <tr>\n      <th>99</th>\n      <td>man, one chris describe * movie 1) mystery mov...</td>\n      <td>negative</td>\n    </tr>\n  </tbody>\n</table>\n<p>100 rows × 2 columns</p>\n</div>"
      ]
     },
     "metadata": {
      "application/vnd.databricks.v1+output": {
       "addedWidgets": {},
       "arguments": {},
       "data": "<div>\n<style scoped>\n    .dataframe tbody tr th:only-of-type {\n        vertical-align: middle;\n    }\n\n    .dataframe tbody tr th {\n        vertical-align: top;\n    }\n\n    .dataframe thead th {\n        text-align: right;\n    }\n</style>\n<table border=\"1\" class=\"dataframe\">\n  <thead>\n    <tr style=\"text-align: right;\">\n      <th></th>\n      <th>review</th>\n      <th>sentiment</th>\n    </tr>\n  </thead>\n  <tbody>\n    <tr>\n      <th>0</th>\n      <td>floor. course, with, sharp, jason it, capitali...</td>\n      <td>positive</td>\n    </tr>\n    <tr>\n      <th>1</th>\n      <td>/&gt;&lt;br fine struck academy me. good movie. judg...</td>\n      <td>positive</td>\n    </tr>\n    <tr>\n      <th>2</th>\n      <td>movie? flicks c would unbridled dvd nowhere cr...</td>\n      <td>positive</td>\n    </tr>\n    <tr>\n      <th>3</th>\n      <td>get. that, role. date work plot tough, let fee...</td>\n      <td>positive</td>\n    </tr>\n    <tr>\n      <th>4</th>\n      <td>&lt;br cuddly appealing matte showing starting (b...</td>\n      <td>positive</td>\n    </tr>\n    <tr>\n      <th>...</th>\n      <td>...</td>\n      <td>...</td>\n    </tr>\n    <tr>\n      <th>95</th>\n      <td>attractive, ya learn warrior lamer excellent s...</td>\n      <td>negative</td>\n    </tr>\n    <tr>\n      <th>96</th>\n      <td>works. ten needed movie weak effects film adde...</td>\n      <td>negative</td>\n    </tr>\n    <tr>\n      <th>97</th>\n      <td>clip get they're see sense.&lt;br caused military...</td>\n      <td>negative</td>\n    </tr>\n    <tr>\n      <th>98</th>\n      <td>intriguing complicated play films ingenuous cl...</td>\n      <td>negative</td>\n    </tr>\n    <tr>\n      <th>99</th>\n      <td>man, one chris describe * movie 1) mystery mov...</td>\n      <td>negative</td>\n    </tr>\n  </tbody>\n</table>\n<p>100 rows × 2 columns</p>\n</div>",
       "datasetInfos": [],
       "metadata": {},
       "removedWidgets": [],
       "textData": null,
       "type": "htmlSandbox"
      }
     },
     "output_type": "display_data"
    }
   ],
   "source": [
    "# generate dataset\n",
    "imdb_gen = NB_IMDB.generate_data(100,1000)\n",
    "imdb_gen"
   ]
  }
 ],
 "metadata": {
  "application/vnd.databricks.v1+notebook": {
   "dashboards": [],
   "language": "python",
   "notebookMetadata": {
    "pythonIndentUnit": 4
   },
   "notebookName": "sentiment analysis",
   "notebookOrigID": 430126780181974,
   "widgets": {}
  }
 },
 "nbformat": 4,
 "nbformat_minor": 0
}
